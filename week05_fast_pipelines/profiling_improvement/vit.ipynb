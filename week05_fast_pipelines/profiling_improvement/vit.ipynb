{
 "cells": [
  {
   "cell_type": "markdown",
   "id": "a10d958d-d6c4-4fe7-a94f-838c43c7e41a",
   "metadata": {},
   "source": [
    "### Global imports"
   ]
  },
  {
   "cell_type": "code",
   "execution_count": null,
   "id": "5fed1613-442f-4e9e-a929-be3986878be0",
   "metadata": {},
   "outputs": [],
   "source": [
    "from __future__ import print_function\n",
    "\n",
    "import glob\n",
    "from itertools import chain\n",
    "import os\n",
    "import random\n",
    "import zipfile\n",
    "\n",
    "import matplotlib.pyplot as plt\n",
    "import numpy as np\n",
    "import pandas as pd\n",
    "import torch\n",
    "import torch.nn as nn\n",
    "import torch.nn.functional as F\n",
    "import torch.optim as optim\n",
    "from PIL import Image\n",
    "from sklearn.model_selection import train_test_split\n",
    "from torch.optim.lr_scheduler import StepLR\n",
    "from torch.utils.data import DataLoader, Dataset\n",
    "from torchvision import datasets, transforms\n",
    "from tqdm.notebook import tqdm"
   ]
  },
  {
   "cell_type": "markdown",
   "id": "8ea6e1a6-214b-4e62-ae7e-6295489dd12c",
   "metadata": {},
   "source": [
    "### Encapsulated local imports"
   ]
  },
  {
   "cell_type": "code",
   "execution_count": null,
   "id": "3ae3dcee-5696-48cf-b3db-d32b0768f3f1",
   "metadata": {},
   "outputs": [],
   "source": [
    "from const import Settings\n",
    "from data import (\n",
    "    extract_dataset_globs,\n",
    "    get_labels,\n",
    "    get_train_transforms,\n",
    "    get_test_transforms,\n",
    "    CatsDogsDataset\n",
    ")"
   ]
  },
  {
   "cell_type": "code",
   "execution_count": null,
   "id": "b8f28c21-0609-4729-b36a-a6477ad5799a",
   "metadata": {},
   "outputs": [],
   "source": [
    "# Additional convenience\n",
    "\n",
    "!jupyter nbextension enable --py widgetsnbextension\n",
    "\n",
    "%load_ext autoreload\n",
    "%autoreload 2"
   ]
  },
  {
   "cell_type": "markdown",
   "id": "fc503fc7-1352-43d2-8cc7-c1a83b8df407",
   "metadata": {},
   "source": [
    "### Make sure that you have an available GPU:"
   ]
  },
  {
   "cell_type": "code",
   "execution_count": null,
   "id": "c28f1629-1364-403d-82ca-1276749a9c1b",
   "metadata": {},
   "outputs": [],
   "source": [
    "torch.cuda.is_available()"
   ]
  },
  {
   "cell_type": "markdown",
   "id": "427c9cbe-7184-45ab-bd35-f5c5a13f66c0",
   "metadata": {},
   "source": [
    "## Process the Dogs vs. Cats dataset into the runtime"
   ]
  },
  {
   "cell_type": "code",
   "execution_count": null,
   "id": "0e140269-46c8-43a2-84b6-455da177c251",
   "metadata": {},
   "outputs": [],
   "source": [
    "train_list, test_list = extract_dataset_globs(half=False)\n",
    "\n",
    "print(f\"Train Data: {len(train_list)}\")\n",
    "print(f\"Test Data: {len(test_list)}\")"
   ]
  },
  {
   "cell_type": "code",
   "execution_count": null,
   "id": "fe7b53f9-2f10-42b9-9c91-c9ce205026c0",
   "metadata": {},
   "outputs": [],
   "source": [
    "labels = get_labels(train_list)"
   ]
  },
  {
   "cell_type": "code",
   "execution_count": null,
   "id": "8f363768-749b-43b4-899a-55bcf9631aa3",
   "metadata": {},
   "outputs": [],
   "source": [
    "random_idx = np.random.randint(1, len(train_list), size=9)\n",
    "fig, axes = plt.subplots(3, 3, figsize=(12, 10))\n",
    "\n",
    "for idx, ax in enumerate(axes.ravel()):\n",
    "    img = Image.open(train_list[idx])\n",
    "    ax.set_title(labels[idx])\n",
    "    ax.imshow(img)"
   ]
  },
  {
   "cell_type": "markdown",
   "id": "aa5af651-18a1-4d27-8c27-03aadcea3d47",
   "metadata": {},
   "source": [
    "## Preprocessing"
   ]
  },
  {
   "cell_type": "code",
   "execution_count": null,
   "id": "31a623d0-c839-420e-940e-15192af4ab7f",
   "metadata": {},
   "outputs": [],
   "source": [
    "train_list, valid_list = train_test_split(\n",
    "    train_list, test_size=0.2, stratify=labels, random_state=Settings.seed\n",
    ")"
   ]
  },
  {
   "cell_type": "code",
   "execution_count": null,
   "id": "e2fac1a0-3268-4072-ac55-968510b3969b",
   "metadata": {},
   "outputs": [],
   "source": [
    "print(f\"Train Data: {len(train_list)}\")\n",
    "print(f\"Validation Data: {len(valid_list)}\")\n",
    "print(f\"Test Data: {len(test_list)}\")"
   ]
  },
  {
   "cell_type": "code",
   "execution_count": null,
   "id": "ae941103-d98b-49fa-98ed-18eff0cfb624",
   "metadata": {},
   "outputs": [],
   "source": [
    "train_transforms = get_train_transforms()\n",
    "test_transforms = get_test_transforms()\n",
    "val_transforms = get_test_transforms()"
   ]
  },
  {
   "cell_type": "code",
   "execution_count": null,
   "id": "2b51a48b-76bb-4cad-997e-67fac738f1a2",
   "metadata": {},
   "outputs": [],
   "source": [
    "train_data = CatsDogsDataset(train_list, transform=train_transforms)\n",
    "valid_data = CatsDogsDataset(valid_list, transform=test_transforms)\n",
    "test_data = CatsDogsDataset(test_list, transform=test_transforms)"
   ]
  },
  {
   "cell_type": "code",
   "execution_count": null,
   "id": "d4414ec9-f16b-41f7-b857-47b2bcb0b0c4",
   "metadata": {},
   "outputs": [],
   "source": [
    "train_loader = DataLoader(dataset=train_data, batch_size=Settings.batch_size, shuffle=True)\n",
    "valid_loader = DataLoader(dataset=valid_data, batch_size=Settings.batch_size, shuffle=True)\n",
    "test_loader = DataLoader(dataset=test_data, batch_size=Settings.batch_size, shuffle=True)"
   ]
  },
  {
   "cell_type": "markdown",
   "id": "d64ea016-7dea-44e2-aac9-e9d1b7721c7d",
   "metadata": {},
   "source": [
    "## Modelling"
   ]
  },
  {
   "cell_type": "markdown",
   "id": "7704afa6-c095-4543-ba74-6a353368e279",
   "metadata": {},
   "source": [
    "### Visual transformer initialization"
   ]
  },
  {
   "cell_type": "code",
   "execution_count": null,
   "id": "24fa5c48-cdcd-4e7a-b7d6-80c45890771e",
   "metadata": {},
   "outputs": [],
   "source": [
    "from efficient_vit import ViT as DefaultViT\n",
    "\n",
    "\n",
    "model = DefaultViT(\n",
    "    dim=128,\n",
    "    mlp_dim=128,\n",
    "    depth=12,\n",
    "    heads=8,\n",
    "    image_size=224,\n",
    "    patch_size=32,\n",
    "    num_classes=2,\n",
    "    channels=3,\n",
    ").to(Settings.device)"
   ]
  },
  {
   "cell_type": "markdown",
   "id": "4895e9f3-edc7-4d92-a5bf-ae07d1507f2a",
   "metadata": {},
   "source": [
    "### Checking inefficient VIT"
   ]
  },
  {
   "cell_type": "code",
   "execution_count": null,
   "id": "58eea4d5-8ae5-4b33-b42d-aac7aa41e750",
   "metadata": {},
   "outputs": [],
   "source": [
    "from vit import ViT as WeakViT\n",
    "\n",
    "\n",
    "model = WeakViT(\n",
    "    dim=128,\n",
    "    mlp_dim=128,\n",
    "    depth=12,\n",
    "    heads=8,\n",
    "    image_size=224,\n",
    "    patch_size=32,\n",
    "    num_classes=2,\n",
    "    channels=3,\n",
    ").to(Settings.device)"
   ]
  },
  {
   "cell_type": "markdown",
   "id": "622eac66-1735-45f5-ae0c-7091b46a9cd2",
   "metadata": {},
   "source": [
    "### Checking Linformer Encoder as a model underneath the ViT"
   ]
  },
  {
   "cell_type": "code",
   "execution_count": null,
   "id": "d97d03d7-8e0c-45fb-8618-da4c0a20e57f",
   "metadata": {},
   "outputs": [],
   "source": [
    "from linformer import Linformer\n",
    "from vit_pytorch.efficient import ViT as EfficientViT\n",
    "\n",
    "\n",
    "efficient_transformer = Linformer(\n",
    "    dim=128,\n",
    "    seq_len=49+1,  # 7x7 patches + 1 cls-token\n",
    "    depth=12,\n",
    "    heads=8,\n",
    "    k=64\n",
    ")\n",
    "\n",
    "\n",
    "model = EfficientViT(\n",
    "    dim=128,\n",
    "    image_size=224,\n",
    "    patch_size=32,\n",
    "    num_classes=2,\n",
    "    transformer=efficient_transformer,\n",
    "    channels=3,\n",
    ").to(Settings.device)"
   ]
  },
  {
   "cell_type": "markdown",
   "id": "0fcf88b0-9003-406a-8fae-a11d32312154",
   "metadata": {},
   "source": [
    "## Training with PyTorch Profiler"
   ]
  },
  {
   "cell_type": "code",
   "execution_count": null,
   "id": "c436f309-dd3e-4a35-ae6f-be77909451da",
   "metadata": {},
   "outputs": [],
   "source": [
    "import typing as tp\n",
    "\n",
    "\n",
    "def train(epoch: int) -> tp.Tuple[float, float]:\n",
    "    epoch_loss, epoch_accuracy = 0, 0\n",
    "    for i, (data, label) in tqdm(enumerate(train_loader), desc=f\"[Train] Epoch: {epoch}\"):\n",
    "        data = data.to(Settings.device)\n",
    "        label = label.to(Settings.device)\n",
    "        with record_function(\"model_forward\"):\n",
    "            output = model(data)\n",
    "        loss = criterion(output, label)\n",
    "\n",
    "        optimizer.zero_grad()\n",
    "        with record_function(\"model_backward\"):\n",
    "            loss.backward()\n",
    "        optimizer.step()\n",
    "\n",
    "        acc = (output.argmax(dim=1) == label).float().mean()\n",
    "        epoch_accuracy += acc / len(train_loader)\n",
    "        epoch_loss += loss / len(train_loader)\n",
    "    return epoch_loss, epoch_accuracy\n",
    "\n",
    "\n",
    "def evaluate(epoch: int) -> tp.Tuple[float, float]:\n",
    "    with torch.no_grad():\n",
    "        epoch_val_accuracy = 0\n",
    "        epoch_val_loss = 0\n",
    "        for i, (data, label) in tqdm(enumerate(valid_loader), desc=f\"[Evaluate] Epoch: {epoch}\"):\n",
    "            data = data.to(Settings.device)\n",
    "            label = label.to(Settings.device)\n",
    "\n",
    "            val_output = model(data)\n",
    "            val_loss = criterion(val_output, label)\n",
    "\n",
    "            acc = (val_output.argmax(dim=1) == label).float().mean()\n",
    "            epoch_val_accuracy += acc / len(valid_loader)\n",
    "            epoch_val_loss += val_loss / len(valid_loader)\n",
    "    return epoch_val_loss, epoch_val_accuracy"
   ]
  },
  {
   "cell_type": "code",
   "execution_count": null,
   "id": "f1c01a33-971b-4e8c-b339-4dd0c589e638",
   "metadata": {},
   "outputs": [],
   "source": [
    "from torch.profiler import profile, record_function, ProfilerActivity\n",
    "\n",
    "\n",
    "criterion = nn.CrossEntropyLoss()\n",
    "optimizer = optim.Adam(model.parameters(), lr=Settings.lr)\n",
    "scheduler = StepLR(optimizer, step_size=1, gamma=Settings.gamma)\n",
    "\n",
    "for epoch in range(Settings.epochs):\n",
    "    with profile(activities=[ProfilerActivity.CPU, ProfilerActivity.CUDA]) as prof:\n",
    "        epoch_loss, epoch_accuracy = train(epoch=(epoch + 1))\n",
    "    epoch_val_loss, epoch_val_accuracy = evaluate(epoch=(epoch + 1))\n",
    "    print(\n",
    "        f\"Epoch: {epoch + 1} - loss: {epoch_loss:.4f} - acc: {epoch_accuracy:.4f} - val_loss: {epoch_val_loss:.4f} - val_acc: {epoch_val_accuracy:.4f}\\n\"\n",
    "    )"
   ]
  },
  {
   "cell_type": "code",
   "execution_count": null,
   "id": "6d455d42-fa05-4148-ac82-d5b74b067337",
   "metadata": {},
   "outputs": [],
   "source": [
    "import pandas as pd\n",
    "\n",
    "names = []\n",
    "total_cpu = []\n",
    "total_cuda = []\n",
    "profiling_keys = [\n",
    "    \"model_forward\", \"model_backward\", \"mlp_head\",\n",
    "    \"attention\", \"feedforward\", \"positional\", \"embedding\",\n",
    "]\n",
    "\n",
    "\n",
    "for key in prof.key_averages():\n",
    "    if key.key in profiling_keys:\n",
    "        names.append(key.key)\n",
    "        total_cpu.append(f\"{key.cpu_time / 1000}ms\")\n",
    "        total_cuda.append(f\"{key.cuda_time / 1000}ms\")\n",
    "\n",
    "\n",
    "result = pd.DataFrame({\"Recorded\": names, \"CPU\": total_cpu, \"CUDA\": total_cuda})\n",
    "result"
   ]
  },
  {
   "cell_type": "code",
   "execution_count": null,
   "id": "5afc9ce3-311a-40b6-bb8d-1e47ed476826",
   "metadata": {},
   "outputs": [],
   "source": [
    "result.to_csv(\"metrics_1.csv\", index=False)"
   ]
  },
  {
   "cell_type": "code",
   "execution_count": null,
   "id": "8379182b-a114-4973-a7ff-2fd0282db91f",
   "metadata": {},
   "outputs": [],
   "source": []
  }
 ],
 "metadata": {
  "kernelspec": {
   "display_name": "Python (efficient-dl)",
   "language": "python",
   "name": "efficient-dl"
  },
  "language_info": {
   "codemirror_mode": {
    "name": "ipython",
    "version": 3
   },
   "file_extension": ".py",
   "mimetype": "text/x-python",
   "name": "python",
   "nbconvert_exporter": "python",
   "pygments_lexer": "ipython3",
   "version": "3.8.16"
  }
 },
 "nbformat": 4,
 "nbformat_minor": 5
}
