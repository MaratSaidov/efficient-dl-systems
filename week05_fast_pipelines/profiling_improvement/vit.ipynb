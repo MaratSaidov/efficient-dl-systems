{
 "cells": [
  {
   "cell_type": "markdown",
   "id": "a10d958d-d6c4-4fe7-a94f-838c43c7e41a",
   "metadata": {},
   "source": [
    "### Global imports"
   ]
  },
  {
   "cell_type": "code",
   "execution_count": null,
   "id": "5fed1613-442f-4e9e-a929-be3986878be0",
   "metadata": {},
   "outputs": [],
   "source": [
    "from __future__ import print_function\n",
    "\n",
    "import glob\n",
    "from itertools import chain\n",
    "import os\n",
    "import random\n",
    "import zipfile\n",
    "\n",
    "import matplotlib.pyplot as plt\n",
    "import numpy as np\n",
    "import pandas as pd\n",
    "import torch\n",
    "import torch.nn as nn\n",
    "import torch.nn.functional as F\n",
    "import torch.optim as optim\n",
    "from PIL import Image\n",
    "from sklearn.model_selection import train_test_split\n",
    "from torch.optim.lr_scheduler import StepLR\n",
    "from torch.utils.data import DataLoader, Dataset\n",
    "from torchvision import datasets, transforms\n",
    "from tqdm.notebook import tqdm"
   ]
  },
  {
   "cell_type": "markdown",
   "id": "8ea6e1a6-214b-4e62-ae7e-6295489dd12c",
   "metadata": {},
   "source": [
    "### Encapsulated local imports"
   ]
  },
  {
   "cell_type": "code",
   "execution_count": null,
   "id": "285d9e77-c819-4eb9-a631-8da03c8a890e",
   "metadata": {},
   "outputs": [],
   "source": [
    "# TODO: remove after debug\n",
    "\n",
    "%load_ext autoreload\n",
    "%autoreload 2"
   ]
  },
  {
   "cell_type": "code",
   "execution_count": null,
   "id": "e6f01411-20f1-4aa6-9e8a-edab2d8b1d55",
   "metadata": {},
   "outputs": [],
   "source": [
    "from const import Settings\n",
    "from data import (\n",
    "    extract_dataset_globs,\n",
    "    get_labels,\n",
    "    get_train_transforms,\n",
    "    get_test_transforms,\n",
    "    CatsDogsDataset\n",
    ")"
   ]
  },
  {
   "cell_type": "markdown",
   "id": "427c9cbe-7184-45ab-bd35-f5c5a13f66c0",
   "metadata": {},
   "source": [
    "## Process the Cats&Dogs dataset into the runtime"
   ]
  },
  {
   "cell_type": "code",
   "execution_count": null,
   "id": "0e140269-46c8-43a2-84b6-455da177c251",
   "metadata": {},
   "outputs": [],
   "source": [
    "train_list, test_list = extract_dataset_globs(half=True)\n",
    "\n",
    "print(f\"Train Data: {len(train_list)}\")\n",
    "print(f\"Test Data: {len(test_list)}\")"
   ]
  },
  {
   "cell_type": "code",
   "execution_count": null,
   "id": "fe7b53f9-2f10-42b9-9c91-c9ce205026c0",
   "metadata": {},
   "outputs": [],
   "source": [
    "labels = get_labels(train_list)"
   ]
  },
  {
   "cell_type": "code",
   "execution_count": null,
   "id": "8f363768-749b-43b4-899a-55bcf9631aa3",
   "metadata": {},
   "outputs": [],
   "source": [
    "random_idx = np.random.randint(1, len(train_list), size=9)\n",
    "fig, axes = plt.subplots(3, 3, figsize=(12, 10))\n",
    "\n",
    "for idx, ax in enumerate(axes.ravel()):\n",
    "    img = Image.open(train_list[idx])\n",
    "    ax.set_title(labels[idx])\n",
    "    ax.imshow(img)"
   ]
  },
  {
   "cell_type": "markdown",
   "id": "aa5af651-18a1-4d27-8c27-03aadcea3d47",
   "metadata": {},
   "source": [
    "## Preprocessing"
   ]
  },
  {
   "cell_type": "code",
   "execution_count": null,
   "id": "31a623d0-c839-420e-940e-15192af4ab7f",
   "metadata": {},
   "outputs": [],
   "source": [
    "train_list, valid_list = train_test_split(\n",
    "    train_list, test_size=0.2, stratify=labels, random_state=Settings.seed\n",
    ")"
   ]
  },
  {
   "cell_type": "code",
   "execution_count": null,
   "id": "e2fac1a0-3268-4072-ac55-968510b3969b",
   "metadata": {},
   "outputs": [],
   "source": [
    "print(f\"Train Data: {len(train_list)}\")\n",
    "print(f\"Validation Data: {len(valid_list)}\")\n",
    "print(f\"Test Data: {len(test_list)}\")"
   ]
  },
  {
   "cell_type": "code",
   "execution_count": null,
   "id": "ae941103-d98b-49fa-98ed-18eff0cfb624",
   "metadata": {},
   "outputs": [],
   "source": [
    "train_transforms = get_train_transforms()\n",
    "test_transforms = get_test_transforms()\n",
    "# TODO: не будет ли бага из-за неявного копирования?\n",
    "val_transforms = get_test_transforms()"
   ]
  },
  {
   "cell_type": "code",
   "execution_count": null,
   "id": "2b51a48b-76bb-4cad-997e-67fac738f1a2",
   "metadata": {},
   "outputs": [],
   "source": [
    "train_data = CatsDogsDataset(train_list, transform=train_transforms)\n",
    "valid_data = CatsDogsDataset(valid_list, transform=test_transforms)\n",
    "test_data = CatsDogsDataset(test_list, transform=test_transforms)"
   ]
  },
  {
   "cell_type": "code",
   "execution_count": null,
   "id": "d4414ec9-f16b-41f7-b857-47b2bcb0b0c4",
   "metadata": {},
   "outputs": [],
   "source": [
    "train_loader = DataLoader(dataset=train_data, batch_size=Settings.batch_size, shuffle=True)\n",
    "valid_loader = DataLoader(dataset=valid_data, batch_size=Settings.batch_size, shuffle=True)\n",
    "test_loader = DataLoader(dataset=test_data, batch_size=Settings.batch_size, shuffle=True)"
   ]
  },
  {
   "cell_type": "markdown",
   "id": "d64ea016-7dea-44e2-aac9-e9d1b7721c7d",
   "metadata": {},
   "source": [
    "## Modelling"
   ]
  },
  {
   "cell_type": "markdown",
   "id": "7704afa6-c095-4543-ba74-6a353368e279",
   "metadata": {},
   "source": [
    "### Visual transformer initialization"
   ]
  },
  {
   "cell_type": "code",
   "execution_count": null,
   "id": "24fa5c48-cdcd-4e7a-b7d6-80c45890771e",
   "metadata": {},
   "outputs": [],
   "source": [
    "# TODO: change to inefficient\n",
    "from ground_truth_vit import ViT\n",
    "\n",
    "\n",
    "model = ViT(\n",
    "    dim=128,\n",
    "    mlp_dim=128, # TODO: prev dim ?\n",
    "    depth=12,\n",
    "    heads=8,\n",
    "    image_size=224,\n",
    "    patch_size=32,\n",
    "    num_classes=2,\n",
    "    channels=3,\n",
    ").to(Settings.device)"
   ]
  },
  {
   "cell_type": "markdown",
   "id": "0fcf88b0-9003-406a-8fae-a11d32312154",
   "metadata": {},
   "source": [
    "## Training with PyTorch Profiler"
   ]
  },
  {
   "cell_type": "code",
   "execution_count": null,
   "id": "86bc77a1-b439-48bc-bdd6-4d6b99d46098",
   "metadata": {},
   "outputs": [],
   "source": [
    "!jupyter nbextension enable --py widgetsnbextension"
   ]
  },
  {
   "cell_type": "code",
   "execution_count": null,
   "id": "c436f309-dd3e-4a35-ae6f-be77909451da",
   "metadata": {},
   "outputs": [],
   "source": [
    "import typing as tp\n",
    "\n",
    "\n",
    "def train() -> tp.Tuple[float, float]:\n",
    "    epoch_loss, epoch_accuracy = 0, 0\n",
    "    for i, (data, label) in tqdm(enumerate(train_loader)):\n",
    "        data = data.to(Settings.device)\n",
    "        label = label.to(Settings.device)\n",
    "        with record_function(\"model_forward\"):\n",
    "            output = model(data)\n",
    "        loss = criterion(output, label)\n",
    "\n",
    "        optimizer.zero_grad()\n",
    "        with record_function(\"model_backward\"):\n",
    "            loss.backward()\n",
    "        optimizer.step()\n",
    "\n",
    "        acc = (output.argmax(dim=1) == label).float().mean()\n",
    "        epoch_accuracy += acc / len(train_loader)\n",
    "        epoch_loss += loss / len(train_loader)\n",
    "    return epoch_loss, epoch_accuracy\n",
    "\n",
    "\n",
    "def evaluate():\n",
    "    with torch.no_grad():\n",
    "        epoch_val_accuracy = 0\n",
    "        epoch_val_loss = 0\n",
    "        for data, label in valid_loader:\n",
    "            data = data.to(Settings.device)\n",
    "            label = label.to(Settings.device)\n",
    "\n",
    "            val_output = model(data)\n",
    "            val_loss = criterion(val_output, label)\n",
    "\n",
    "            acc = (val_output.argmax(dim=1) == label).float().mean()\n",
    "            epoch_val_accuracy += acc / len(valid_loader)\n",
    "            epoch_val_loss += val_loss / len(valid_loader)\n",
    "    return epoch_val_loss, epoch_val_accuracy"
   ]
  },
  {
   "cell_type": "code",
   "execution_count": null,
   "id": "f1c01a33-971b-4e8c-b339-4dd0c589e638",
   "metadata": {},
   "outputs": [],
   "source": [
    "from torch.profiler import profile, record_function, ProfilerActivity\n",
    "\n",
    "\n",
    "criterion = nn.CrossEntropyLoss()\n",
    "optimizer = optim.Adam(model.parameters(), lr=Settings.lr)\n",
    "scheduler = StepLR(optimizer, step_size=1, gamma=Settings.gamma)\n",
    "\n",
    "for epoch in range(Settings.epochs):\n",
    "    with profile(activities=[ProfilerActivity.CPU, ProfilerActivity.CUDA]) as prof:\n",
    "        epoch_loss, epoch_accuracy = train()\n",
    "    epoch_val_loss, epoch_val_accuracy = evaluate()\n",
    "    print(\n",
    "        f\"Epoch: {epoch+1} - loss: {epoch_loss:.4f} - acc: {epoch_accuracy:.4f} - val_loss: {epoch_val_loss:.4f} - val_acc: {epoch_val_accuracy:.4f}\\n\"\n",
    "    )"
   ]
  },
  {
   "cell_type": "code",
   "execution_count": null,
   "id": "6d455d42-fa05-4148-ac82-d5b74b067337",
   "metadata": {},
   "outputs": [],
   "source": [
    "import pandas as pd\n",
    "\n",
    "inputs = torch.randn(16, 3, 224, 224)\n",
    "names = []\n",
    "total_cpu = []\n",
    "total_cuda = []\n",
    "profiling_keys = [\n",
    "    \"model_forward\", \"model_backward\", \"mlp_head\",\n",
    "    \"attention\", \"feedforward\", \"positional\", \"embedding\",\n",
    "]\n",
    "\n",
    "\n",
    "for key in prof.key_averages():\n",
    "    if key.key in profiling_keys:\n",
    "        names.append(key.key)\n",
    "        total_cpu.append(f\"{key.cpu_time / 1000}ms\")\n",
    "        total_cuda.append(f\"{key.cuda_time / 1000}ms\")\n",
    "\n",
    "\n",
    "result = pd.DataFrame({\"CPU\": total_cpu, \"CUDA\": total_cuda}, index=names)\n",
    "result"
   ]
  },
  {
   "cell_type": "code",
   "execution_count": null,
   "id": "5afc9ce3-311a-40b6-bb8d-1e47ed476826",
   "metadata": {},
   "outputs": [],
   "source": [
    "result.to_csv(\"metrics_1.csv\", index=False)"
   ]
  },
  {
   "cell_type": "code",
   "execution_count": null,
   "id": "8379182b-a114-4973-a7ff-2fd0282db91f",
   "metadata": {},
   "outputs": [],
   "source": []
  }
 ],
 "metadata": {
  "kernelspec": {
   "display_name": "Python (efficient-dl)",
   "language": "python",
   "name": "efficient-dl"
  },
  "language_info": {
   "codemirror_mode": {
    "name": "ipython",
    "version": 3
   },
   "file_extension": ".py",
   "mimetype": "text/x-python",
   "name": "python",
   "nbconvert_exporter": "python",
   "pygments_lexer": "ipython3",
   "version": "3.8.16"
  }
 },
 "nbformat": 4,
 "nbformat_minor": 5
}
